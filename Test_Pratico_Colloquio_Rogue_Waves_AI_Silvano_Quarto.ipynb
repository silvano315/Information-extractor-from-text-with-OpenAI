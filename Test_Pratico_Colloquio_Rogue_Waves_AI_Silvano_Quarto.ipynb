{
  "cells": [
    {
      "cell_type": "markdown",
      "metadata": {
        "id": "Ht61dJyU9bIb"
      },
      "source": [
        "# Test pratico per colloquio tecnico con Rogue Waves AI\n",
        "> Silvano Quarto, 30/06/2025 ore 16:00"
      ]
    },
    {
      "cell_type": "markdown",
      "metadata": {
        "id": "tgm1jBQp9Spf"
      },
      "source": [
        "## Setup & imports"
      ]
    },
    {
      "cell_type": "code",
      "execution_count": null,
      "metadata": {
        "id": "CByiCNIh84IG"
      },
      "outputs": [],
      "source": [
        "!git clone https://github.com/silvano315/Information-extractor-from-text-with-OpenAI.git\n",
        "%cd Information-extractor-from-text-with-OpenAI\n",
        "!pip install -r requirements.txt"
      ]
    },
    {
      "cell_type": "code",
      "execution_count": 1,
      "metadata": {},
      "outputs": [],
      "source": [
        "# Import libraries\n",
        "\n",
        "from src.io.load_data import load_articles_json, load_ground_truth_json\n",
        "from src.analysis.eda import EDA\n",
        "from src.preprocessing.text_utils import preprocess_articles_dataset\n",
        "from src.llm.openai_client import process_single_article\n",
        "from src.validation.batch_processing import process_ground_truth_articles, save_final_results\n",
        "from src.validation.metrics_evaluation import run_complete_evaluation"
      ]
    },
    {
      "cell_type": "markdown",
      "metadata": {
        "id": "7gum7-c-HpPK"
      },
      "source": [
        "## Load Data"
      ]
    },
    {
      "cell_type": "code",
      "execution_count": 2,
      "metadata": {
        "id": "xRehRxiXHq5u"
      },
      "outputs": [
        {
          "name": "stdout",
          "output_type": "stream",
          "text": [
            "Loaded 699 articles from data/raw/clean_articles.json\n"
          ]
        }
      ],
      "source": [
        "# Load cleaned articles from JSON file\n",
        "\n",
        "articles = load_articles_json(\"data/raw/clean_articles.json\")"
      ]
    },
    {
      "cell_type": "markdown",
      "metadata": {},
      "source": [
        "## Articles exploration"
      ]
    },
    {
      "cell_type": "code",
      "execution_count": 3,
      "metadata": {},
      "outputs": [],
      "source": [
        "# Initialize EDA class\n",
        "\n",
        "eda = EDA(articles)"
      ]
    },
    {
      "cell_type": "code",
      "execution_count": 8,
      "metadata": {},
      "outputs": [
        {
          "name": "stdout",
          "output_type": "stream",
          "text": [
            "{'num_documents': 699, 'avg_length_chars': 2443, 'min_length_chars': 1445, 'max_length_chars': 2985, 'avg_words': 352, 'min_words': 212, 'max_words': 419}\n",
            "{'avg_tokens': 446, 'min_tokens': 262, 'max_tokens': 500, 'total_tokens': 311938}\n"
          ]
        }
      ],
      "source": [
        "# Basic stats\n",
        "\n",
        "print(eda.text_length_stats())\n",
        "print(eda.token_stats())"
      ]
    },
    {
      "cell_type": "code",
      "execution_count": 5,
      "metadata": {},
      "outputs": [
        {
          "name": "stdout",
          "output_type": "stream",
          "text": [
            "\n",
            "--- Article 1 (ID: fbf3a70f...) ---\n",
            "Length: 2132 chars, 310 words\n",
            "Preview: **Scientific Innovations in Raossi: A Look into Recent Biological Research**\n",
            "\n",
            "*By Ramona Micca | December 27, 2024*\n",
            "\n",
            "In the small town of Raossi, a significant advancement in biological research has e...\n",
            "--------------------------------------------------\n",
            "\n",
            "--- Article 2 (ID: 46e67824...) ---\n",
            "Length: 2520 chars, 377 words\n",
            "Preview: **Football Community Faces Setbacks in Campiglia Marittima Stazione**  \n",
            "*By Ilaria Lussu | October 19, 2024*\n",
            "\n",
            "In a disheartening turn of events for football enthusiasts in Campiglia Marittima Stazione...\n",
            "--------------------------------------------------\n",
            "\n",
            "--- Article 3 (ID: e3487f20...) ---\n",
            "Length: 2317 chars, 333 words\n",
            "Preview: **Drug Trafficking Investigation Leads to Suspect Arrest in Bruzzano Zeffirio**  \n",
            "*By Eraldo Serao, April 4, 2025*\n",
            "\n",
            "In a significant development in the ongoing fight against organized crime, law enfor...\n",
            "--------------------------------------------------\n",
            "None\n"
          ]
        }
      ],
      "source": [
        "print(eda.preview_articles(3))"
      ]
    },
    {
      "cell_type": "markdown",
      "metadata": {
        "id": "BetbrvmFHrXA"
      },
      "source": [
        "## Preprocessing"
      ]
    },
    {
      "cell_type": "code",
      "execution_count": 4,
      "metadata": {
        "id": "slhb7gypHstu"
      },
      "outputs": [
        {
          "name": "stdout",
          "output_type": "stream",
          "text": [
            "Loaded 699 articles from data/raw/clean_articles.json\n",
            "Total articles processed: 699\n"
          ]
        }
      ],
      "source": [
        "# Minimal preprocessing step\n",
        "\n",
        "preprocessed_articles_filepath = preprocess_articles_dataset(\"data/raw/clean_articles.json\", \"data/preprocessed/preprocessed_articles.json\")"
      ]
    },
    {
      "cell_type": "markdown",
      "metadata": {
        "id": "VT4v7H0_HtPW"
      },
      "source": [
        "## Extract information with OpenAI\n",
        "> This is just a test section to extract information and validate outputs"
      ]
    },
    {
      "cell_type": "code",
      "execution_count": 3,
      "metadata": {},
      "outputs": [
        {
          "name": "stdout",
          "output_type": "stream",
          "text": [
            "{'id': 'fbf3a70f-e4de-45e7-8f12-33b957c11490', 'text': '**Scientific Innovations in Raossi: A Look into Recent Biological Research**\\n\\n*By Ramona Micca | December 27, 2024*\\n\\nIn the small town of Raossi, a significant advancement in biological research has emerged, thanks to the collaborative efforts of a dedicated team of scientists. This group, comprising Sig. Orlando Trobbiani, a researcher with a keen focus on biological sciences; Evangelista Vezzali, an inventor and data analyst; and Dott. Donatello Legnante, a postdoctoral fellow, has recently presented their latest findings that could have implications for the field of biology.\\n\\nThe team has been working diligently to explore new biological concepts and methodologies, aiming to enhance our understanding of complex biological systems. While specific details of their research have yet to be disclosed to the public, the team\\'s collective expertise suggests a promising direction in the study of biology that could potentially address existing gaps in knowledge.\\n\\nSig. Trobbiani has emphasized the importance of interdisciplinary collaboration in scientific research. \"Each member of our team brings a unique perspective and skill set, which enriches our research process and outcomes,\" Trobbiani stated.\\n\\nEvangelista Vezzali\\'s dual role as an inventor and data analyst has been pivotal in integrating practical innovation with analytical rigor. His ability to harness data to inform technological advancements could pave the way for new tools and methodologies in biological research.\\n\\nDott. Donatello Legnante, in his position as a postdoctoral fellow, has played a crucial role in refining the team’s experimental approaches, ensuring that their findings are both rigorous and reproducible. \"Our goal is not only to advance academic understanding but to also contribute to practical applications that can benefit society,\" Legnante remarked.\\n\\nThis collaborative effort showcases the essential nature of teamwork in scientific exploration, particularly in a field as multifaceted as biology. As the research progresses, the scientific community and the public are keenly interested in the outcomes of their work in Raossi.'}\n"
          ]
        }
      ],
      "source": [
        "print(articles[0])"
      ]
    },
    {
      "cell_type": "code",
      "execution_count": 4,
      "metadata": {
        "id": "KN8qfwA9HwX5"
      },
      "outputs": [
        {
          "name": "stderr",
          "output_type": "stream",
          "text": [
            "/Users/silvanoquarto/Desktop/Information-extractor-from-text-with-OpenAI/.venv/lib/python3.13/site-packages/pydantic/_internal/_config.py:373: UserWarning: Valid config keys have changed in V2:\n",
            "* 'schema_extra' has been renamed to 'json_schema_extra'\n",
            "  warnings.warn(message, UserWarning)\n"
          ]
        },
        {
          "name": "stdout",
          "output_type": "stream",
          "text": [
            "{'article_id': 'fbf3a70f-e4de-45e7-8f12-33b957c11490', 'extraction': {'people': [{'name': 'Orlando Trobbiani', 'roles': ['Researcher', 'Biological Sciences']}, {'name': 'Evangelista Vezzali', 'roles': ['Inventor', 'Data Analyst']}, {'name': 'Donatello Legnante', 'roles': ['Postdoctoral Fellow']}], 'topic': 'Science', 'subtopic': 'Biology', 'date': '2024-12-27'}, 'success': True, 'error': None, 'metadata': {'model': 'gpt-4o-mini', 'tokens_used': 1011}}\n"
          ]
        }
      ],
      "source": [
        "sample_results = process_single_article(articles[0], model=\"gpt-4o-mini\")\n",
        "\n",
        "# Print the sample results\n",
        "print(sample_results)"
      ]
    },
    {
      "cell_type": "code",
      "execution_count": 3,
      "metadata": {},
      "outputs": [
        {
          "name": "stdout",
          "output_type": "stream",
          "text": [
            "{'article_id': '46e67824-f1c2-425a-912a-02eaccd3c494', 'extraction': {'people': [{'name': 'Giuliano Bembo', 'roles': ['Trainer']}, {'name': 'Roman Filzi-Verri', 'roles': ['Club Owner', 'Agent']}, {'name': 'Ninetta Brunelleschi-Pepe', 'roles': ['Referee', 'Athlete']}, {'name': 'Giulio Stucchi', 'roles': ['Sports Commentator']}, {'name': 'Sebastiano Roncalli-Pedersoli', 'roles': ['Sports Photographer', 'Mascot']}], 'topic': 'Sports', 'subtopic': 'Football', 'date': '2024-10-19'}, 'success': True, 'error': None, 'metadata': {'model': 'gpt-4o-mini', 'tokens_used': 1175}}\n"
          ]
        }
      ],
      "source": [
        "sample_results = process_single_article(articles[1], model=\"gpt-4o-mini\")\n",
        "\n",
        "# Print the sample results\n",
        "print(sample_results)"
      ]
    },
    {
      "cell_type": "code",
      "execution_count": 4,
      "metadata": {},
      "outputs": [
        {
          "name": "stdout",
          "output_type": "stream",
          "text": [
            "{'article_id': 'e3487f20-56dd-4a16-a2ef-df7b756a459d', 'extraction': {'people': [{'name': 'Gelsomina Rizzoli', 'roles': ['suspected mafia boss']}, {'name': 'Marcella Priuli', 'roles': ['Detective', 'investigator']}, {'name': 'Augusto Romano', 'roles': ['Crime Scene Investigator', 'key witness']}, {'name': 'Serafina Mennea', 'roles': ['Judge']}, {'name': 'Livio Bonatti', 'roles': ['court clerk', 'coroner']}, {'name': 'Annalisa Panzera-Iadanza', 'roles': ['victim']}], 'topic': 'Crime', 'subtopic': 'Drug Trafficking', 'date': '2025-04-04'}, 'success': True, 'error': None, 'metadata': {'model': 'gpt-4o-mini', 'tokens_used': 1125}}\n"
          ]
        }
      ],
      "source": [
        "sample_results = process_single_article(articles[2], model=\"gpt-4o-mini\")\n",
        "\n",
        "# Print the sample results\n",
        "print(sample_results)"
      ]
    },
    {
      "cell_type": "markdown",
      "metadata": {
        "id": "YDzH1XwaHxBD"
      },
      "source": [
        "## Extract information for Validation\n",
        "> using only UUID found in 200_gt_evaluation_human.json"
      ]
    },
    {
      "cell_type": "code",
      "execution_count": 3,
      "metadata": {
        "id": "9rW6_MWrHzBI"
      },
      "outputs": [
        {
          "name": "stdout",
          "output_type": "stream",
          "text": [
            "Loaded 200 ground truth samples from data/raw/200_gt_evaluation_human.json\n"
          ]
        }
      ],
      "source": [
        "# Load ground truth data\n",
        "\n",
        "ground_truth = load_ground_truth_json(\"data/raw/200_gt_evaluation_human.json\")"
      ]
    },
    {
      "cell_type": "code",
      "execution_count": 5,
      "metadata": {},
      "outputs": [
        {
          "name": "stdout",
          "output_type": "stream",
          "text": [
            "Starting Ground Truth Article Processing\n",
            "Loading datasets...\n",
            "Loaded 699 articles from data/raw/clean_articles.json\n",
            "Loaded 200 ground truth samples from data/raw/200_gt_evaluation_human.json\n",
            "Found 200 UUIDs in ground truth\n",
            "Matched 200 articles with ground truth\n",
            "Coverage: 200/200 ground truth entries\n",
            "\n",
            "Processing 200 articles...\n",
            "Processing 1/200 - ID: 0142e7ab...\n",
            "Processing 2/200 - ID: dfda542f...\n",
            "Processing 3/200 - ID: 5b4f5864...\n",
            "Processing 4/200 - ID: 778abe7e...\n",
            "Processing 5/200 - ID: 6f3999bf...\n",
            "Processing 6/200 - ID: c1d30eb2...\n",
            "Processing 7/200 - ID: 0793ac90...\n",
            "Processing 8/200 - ID: 6dbdaaf8...\n",
            "Processing 9/200 - ID: 81516984...\n",
            "Processing 10/200 - ID: 3c35dac8...\n",
            "Saved intermediate results (batch 10)\n",
            "Processing 11/200 - ID: 1ac4a5c6...\n",
            "Processing 12/200 - ID: ea330a23...\n",
            "Processing 13/200 - ID: a72d5548...\n",
            "Processing 14/200 - ID: aef1cb78...\n",
            "Processing 15/200 - ID: 6ede7871...\n",
            "Processing 16/200 - ID: f6e6759e...\n",
            "Processing 17/200 - ID: f74a4812...\n",
            "Processing 18/200 - ID: f2bfee32...\n",
            "Processing 19/200 - ID: 0e6b7ab2...\n",
            "Processing 20/200 - ID: 47ef9996...\n",
            "Saved intermediate results (batch 20)\n",
            "Processing 21/200 - ID: 85a8fd54...\n",
            "Processing 22/200 - ID: 8301b0cb...\n",
            "Processing 23/200 - ID: 4c00f51f...\n",
            "Processing 24/200 - ID: 960e2c11...\n",
            "Processing 25/200 - ID: 531ab9c3...\n",
            "Processing 26/200 - ID: 4d4ad228...\n",
            "Processing 27/200 - ID: 9b866f39...\n",
            "Processing 28/200 - ID: 82e333f3...\n",
            "Processing 29/200 - ID: 7cdca419...\n",
            "Processing 30/200 - ID: d76f9d76...\n",
            "Saved intermediate results (batch 30)\n",
            "Processing 31/200 - ID: 83dfa8f6...\n",
            "Processing 32/200 - ID: 38223fbc...\n",
            "Processing 33/200 - ID: db3ec69a...\n",
            "Processing 34/200 - ID: ff3c60cb...\n",
            "Processing 35/200 - ID: a3f9f7ea...\n",
            "Processing 36/200 - ID: 47f64b31...\n",
            "Processing 37/200 - ID: 496d3d30...\n",
            "Processing 38/200 - ID: 0cc07168...\n",
            "Processing 39/200 - ID: 4568e4c6...\n",
            "Processing 40/200 - ID: 7f3a6f54...\n",
            "Saved intermediate results (batch 40)\n",
            "Processing 41/200 - ID: 804aac8c...\n",
            "Processing 42/200 - ID: 5e09994c...\n",
            "Processing 43/200 - ID: 9d1fdd05...\n",
            "Processing 44/200 - ID: f16a3b31...\n",
            "Processing 45/200 - ID: 30345aa1...\n",
            "Processing 46/200 - ID: a17866b5...\n",
            "Processing 47/200 - ID: 89205081...\n",
            "Processing 48/200 - ID: 688a14b1...\n",
            "Processing 49/200 - ID: 1c76d4e1...\n",
            "Processing 50/200 - ID: b3467cf8...\n",
            "Saved intermediate results (batch 50)\n",
            "Processing 51/200 - ID: 26f237e3...\n",
            "Processing 52/200 - ID: 26b983ae...\n",
            "Processing 53/200 - ID: 7e946c6c...\n",
            "Processing 54/200 - ID: b5a159e1...\n",
            "Processing 55/200 - ID: ff9c451d...\n",
            "Processing 56/200 - ID: 98086880...\n",
            "Processing 57/200 - ID: b210e721...\n",
            "Processing 58/200 - ID: f0382663...\n",
            "Processing 59/200 - ID: 4e66fca1...\n",
            "Processing 60/200 - ID: 806bd84b...\n",
            "Saved intermediate results (batch 60)\n",
            "Processing 61/200 - ID: 482bc7a5...\n",
            "Processing 62/200 - ID: 1e5c283c...\n",
            "Processing 63/200 - ID: ff63ad79...\n",
            "Processing 64/200 - ID: c11088d9...\n",
            "Processing 65/200 - ID: c89a0159...\n",
            "Processing 66/200 - ID: 9312d303...\n",
            "Processing 67/200 - ID: 8c678dc3...\n",
            "Processing 68/200 - ID: 64f822b9...\n",
            "Processing 69/200 - ID: 95150e46...\n",
            "Processing 70/200 - ID: ee6b17db...\n",
            "Saved intermediate results (batch 70)\n",
            "Processing 71/200 - ID: 6c447a84...\n",
            "Processing 72/200 - ID: 06ab3d2b...\n",
            "Processing 73/200 - ID: 8e9d993a...\n",
            "Processing 74/200 - ID: f56a1d36...\n",
            "Processing 75/200 - ID: 025ab135...\n",
            "Processing 76/200 - ID: 2045d39d...\n",
            "Processing 77/200 - ID: 4d4ee82e...\n",
            "Processing 78/200 - ID: 91060f89...\n",
            "Processing 79/200 - ID: efb2e874...\n",
            "Processing 80/200 - ID: b39fd260...\n",
            "Saved intermediate results (batch 80)\n",
            "Processing 81/200 - ID: c1cf7f04...\n",
            "Processing 82/200 - ID: 0a35b00c...\n",
            "Processing 83/200 - ID: 1050a2b5...\n",
            "Processing 84/200 - ID: 4a086022...\n",
            "Processing 85/200 - ID: e9989c98...\n",
            "Processing 86/200 - ID: 5dd4ca23...\n",
            "Processing 87/200 - ID: 6e21eadb...\n",
            "Processing 88/200 - ID: 68a42530...\n",
            "Processing 89/200 - ID: ae96c7f0...\n",
            "Processing 90/200 - ID: f0dbd8e8...\n",
            "Saved intermediate results (batch 90)\n",
            "Processing 91/200 - ID: ec9f6c63...\n",
            "Processing 92/200 - ID: 2b373c87...\n",
            "Processing 93/200 - ID: c81db9e2...\n",
            "Processing 94/200 - ID: dda320f8...\n",
            "Processing 95/200 - ID: 98d7b80d...\n",
            "Processing 96/200 - ID: c126ffd5...\n",
            "Processing 97/200 - ID: f07e11b2...\n",
            "Processing 98/200 - ID: 31147603...\n",
            "Processing 99/200 - ID: 447ddf24...\n",
            "Processing 100/200 - ID: b23c49c2...\n",
            "Saved intermediate results (batch 100)\n",
            "Processing 101/200 - ID: 6803965f...\n",
            "Processing 102/200 - ID: ab4df3ae...\n",
            "Processing 103/200 - ID: 55b3c1bc...\n",
            "Processing 104/200 - ID: d4bb63f7...\n",
            "Processing 105/200 - ID: 06587abb...\n",
            "Processing 106/200 - ID: 57d59895...\n",
            "Processing 107/200 - ID: 07840d5e...\n",
            "Processing 108/200 - ID: 5e4ddbfb...\n",
            "Processing 109/200 - ID: cba5545a...\n",
            "Processing 110/200 - ID: bedc0fda...\n",
            "Saved intermediate results (batch 110)\n",
            "Processing 111/200 - ID: 156b8b20...\n",
            "Processing 112/200 - ID: 6cbf7fb0...\n",
            "Processing 113/200 - ID: bcb8ec42...\n",
            "Processing 114/200 - ID: e1221d6e...\n",
            "Processing 115/200 - ID: d7c966f5...\n",
            "Processing 116/200 - ID: edd74b87...\n",
            "Processing 117/200 - ID: 58378ad3...\n",
            "Processing 118/200 - ID: a5cff071...\n",
            "Processing 119/200 - ID: c1bb2fce...\n",
            "Processing 120/200 - ID: 7a9f5fa8...\n",
            "Saved intermediate results (batch 120)\n",
            "Processing 121/200 - ID: fc9534f5...\n",
            "Processing 122/200 - ID: 358634b1...\n",
            "Processing 123/200 - ID: 44a2d978...\n",
            "Processing 124/200 - ID: fcf01f4c...\n",
            "Processing 125/200 - ID: e56aa3cd...\n",
            "Processing 126/200 - ID: aedf6482...\n",
            "Processing 127/200 - ID: 07715548...\n",
            "Processing 128/200 - ID: 45a3f09f...\n",
            "Processing 129/200 - ID: 639d6da9...\n",
            "Processing 130/200 - ID: e460bc57...\n",
            "Saved intermediate results (batch 130)\n",
            "Processing 131/200 - ID: 24eab536...\n",
            "Processing 132/200 - ID: 04dce9c3...\n",
            "Processing 133/200 - ID: 90fbce58...\n",
            "Processing 134/200 - ID: 4776d960...\n",
            "Processing 135/200 - ID: 0766b913...\n",
            "Processing 136/200 - ID: 18aa5fe4...\n",
            "Processing 137/200 - ID: 09b181e5...\n",
            "Processing 138/200 - ID: 17436e56...\n",
            "Processing 139/200 - ID: 5110ab66...\n",
            "Processing 140/200 - ID: cf0927c5...\n",
            "Saved intermediate results (batch 140)\n",
            "Processing 141/200 - ID: 7cdf8186...\n",
            "Processing 142/200 - ID: 7b032dc0...\n",
            "Processing 143/200 - ID: c64104cf...\n",
            "Processing 144/200 - ID: 503b38b7...\n",
            "Processing 145/200 - ID: 474930ab...\n",
            "Processing 146/200 - ID: 3e07eca9...\n",
            "Processing 147/200 - ID: 62c7c3c0...\n",
            "Processing 148/200 - ID: a43519da...\n",
            "Processing 149/200 - ID: 17ea89c2...\n",
            "Processing 150/200 - ID: 80667ad1...\n",
            "Saved intermediate results (batch 150)\n",
            "Processing 151/200 - ID: bd192369...\n",
            "Processing 152/200 - ID: bdcf3946...\n",
            "Processing 153/200 - ID: 113cee98...\n",
            "Processing 154/200 - ID: 4b53e18d...\n",
            "Processing 155/200 - ID: 74d136b8...\n",
            "Processing 156/200 - ID: 9071b0b1...\n",
            "Processing 157/200 - ID: c34bafbc...\n",
            "Processing 158/200 - ID: faf3561e...\n",
            "Processing 159/200 - ID: cdd61bc7...\n",
            "Processing 160/200 - ID: 229f3a06...\n",
            "Saved intermediate results (batch 160)\n",
            "Processing 161/200 - ID: 1ea30ce9...\n",
            "Processing 162/200 - ID: 55ffcecb...\n",
            "Processing 163/200 - ID: 91f70d20...\n",
            "Processing 164/200 - ID: c8da8f21...\n",
            "Processing 165/200 - ID: 70d80892...\n",
            "Processing 166/200 - ID: b201979f...\n",
            "Processing 167/200 - ID: b4bf6455...\n",
            "Processing 168/200 - ID: 664ad3f2...\n",
            "Processing 169/200 - ID: 7c11fa9b...\n",
            "Processing 170/200 - ID: aa5a30e4...\n",
            "Saved intermediate results (batch 170)\n",
            "Processing 171/200 - ID: 650b5b3f...\n",
            "Processing 172/200 - ID: e179f25e...\n",
            "Processing 173/200 - ID: a0b83491...\n",
            "Processing 174/200 - ID: fa63214f...\n",
            "Processing 175/200 - ID: fc615d49...\n",
            "Processing 176/200 - ID: c21abd85...\n",
            "Processing 177/200 - ID: 35017add...\n",
            "Processing 178/200 - ID: 9333e6a5...\n",
            "Processing 179/200 - ID: 450137d6...\n",
            "Processing 180/200 - ID: 9935cb0a...\n",
            "Saved intermediate results (batch 180)\n",
            "Processing 181/200 - ID: 62325889...\n",
            "Processing 182/200 - ID: 33d30712...\n",
            "Processing 183/200 - ID: 85c10086...\n",
            "Processing 184/200 - ID: 3f8408c8...\n",
            "Processing 185/200 - ID: 1ecde610...\n",
            "Processing 186/200 - ID: 6863713a...\n",
            "Processing 187/200 - ID: 7dec14d3...\n",
            "Processing 188/200 - ID: 4a3644a6...\n",
            "Processing 189/200 - ID: 33a57595...\n",
            "Processing 190/200 - ID: bb44ae3d...\n",
            "Saved intermediate results (batch 190)\n",
            "Processing 191/200 - ID: 02566ed1...\n",
            "Processing 192/200 - ID: 4378eaf9...\n",
            "Processing 193/200 - ID: 0dfaf836...\n",
            "Processing 194/200 - ID: 9955a0b6...\n",
            "Processing 195/200 - ID: 783c9334...\n",
            "Processing 196/200 - ID: c6f0d15f...\n",
            "Processing 197/200 - ID: 8a3471a1...\n",
            "Processing 198/200 - ID: cb517389...\n",
            "Processing 199/200 - ID: 278a5986...\n",
            "Processing 200/200 - ID: f80b5beb...\n",
            "Saved intermediate results (batch 200)\n",
            "\n",
            "Processing Summary:\n",
            "   - Successful: 200/200\n",
            "   - Failed: 0/200\n"
          ]
        }
      ],
      "source": [
        "results = process_ground_truth_articles(\n",
        "    articles_filepath=\"data/raw/clean_articles.json\",\n",
        "    ground_truth_filepath=\"data/raw/200_gt_evaluation_human.json\",\n",
        "    model=\"gpt-4o-mini\",\n",
        "    batch_size=10\n",
        ")"
      ]
    },
    {
      "cell_type": "code",
      "execution_count": 6,
      "metadata": {},
      "outputs": [
        {
          "name": "stdout",
          "output_type": "stream",
          "text": [
            "Final results saved to: data/output/extraction_results.json\n"
          ]
        }
      ],
      "source": [
        "if results:\n",
        "    save_final_results(results)"
      ]
    },
    {
      "cell_type": "markdown",
      "metadata": {},
      "source": [
        "## Metrics Evaluation"
      ]
    },
    {
      "cell_type": "code",
      "execution_count": 2,
      "metadata": {},
      "outputs": [
        {
          "name": "stdout",
          "output_type": "stream",
          "text": [
            "Starting Final Evaluation\n",
            "Loading data...\n",
            "Loaded 200 predictions\n",
            "Loaded 200 ground truth entries\n",
            "\n",
            "Evaluating entity and role extraction...\n",
            "Evaluating topic/subtopic classification...\n",
            "\n",
            "EVALUATION RESULTS:\n",
            "   Entity F1: 0.812\n",
            "   Role F1: 0.741\n",
            "   Topic Accuracy: 0.975\n",
            "   Subtopic Accuracy: 0.970\n",
            "Detailed report saved to: data/output/evaluation_report.json\n"
          ]
        }
      ],
      "source": [
        "results = run_complete_evaluation(\n",
        "    \"data/output/extraction_results.json\",\n",
        "    \"data/raw/200_gt_evaluation_human.json\"\n",
        ")"
      ]
    }
  ],
  "metadata": {
    "colab": {
      "provenance": []
    },
    "kernelspec": {
      "display_name": ".venv",
      "language": "python",
      "name": "python3"
    },
    "language_info": {
      "codemirror_mode": {
        "name": "ipython",
        "version": 3
      },
      "file_extension": ".py",
      "mimetype": "text/x-python",
      "name": "python",
      "nbconvert_exporter": "python",
      "pygments_lexer": "ipython3",
      "version": "3.13.0"
    }
  },
  "nbformat": 4,
  "nbformat_minor": 0
}
